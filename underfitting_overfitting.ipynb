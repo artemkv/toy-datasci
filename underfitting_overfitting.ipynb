{
 "cells": [
  {
   "cell_type": "markdown",
   "metadata": {},
   "source": [
    "# Underfitting vs Overfitting"
   ]
  },
  {
   "cell_type": "markdown",
   "metadata": {},
   "source": [
    "Goals:\n",
    "- hand-code the polynomial regression algorithm on toy dataset\n",
    "- make the algorithm underfit, overfit and fit the data"
   ]
  },
  {
   "cell_type": "markdown",
   "metadata": {},
   "source": [
    "## Import basic libraries"
   ]
  },
  {
   "cell_type": "code",
   "execution_count": 1,
   "metadata": {},
   "outputs": [],
   "source": [
    "import numpy as np\n",
    "from matplotlib import pyplot as plt\n",
    "\n",
    "%matplotlib inline"
   ]
  },
  {
   "cell_type": "markdown",
   "metadata": {},
   "source": [
    "## Create a toy dataset"
   ]
  },
  {
   "cell_type": "code",
   "execution_count": 2,
   "metadata": {},
   "outputs": [
    {
     "data": {
      "text/plain": [
       "array([[  0.95410334,   3.73095453],\n",
       "       [ -0.64043467,  -0.48119727],\n",
       "       [ -2.13432455, -21.31458428],\n",
       "       [  0.23954215,   6.05204035],\n",
       "       [ -0.10045605,   1.60130726]])"
      ]
     },
     "execution_count": 2,
     "metadata": {},
     "output_type": "execute_result"
    }
   ],
   "source": [
    "import math\n",
    "\n",
    "N = 100\n",
    "D = 2\n",
    "\n",
    "# data is normally distributed with mean data_mu and variance data_sigma\n",
    "data_mu = .5\n",
    "data_sigma = 1\n",
    "\n",
    "# we believe that there is a \"true\" underlying dependency x2 = true_w1 * x1 + true_w2 * x1*x1 + true_b\n",
    "# and if some x2 do not land on the line exactly, its due to an error\n",
    "true_w1 = 4.5\n",
    "true_w2 = -3.5\n",
    "true_b = 2.5\n",
    "\n",
    "# error is normally distributed random variable with mean err_mu and variance err_sigma\n",
    "# that is, the error is sum of many different random influences\n",
    "err_mu = 0\n",
    "err_sigma = 1.5\n",
    "\n",
    "# make up the dataset\n",
    "data = np.empty([N, D], dtype=float)\n",
    "data[:, 0] = data_sigma * np.random.randn(N) + data_mu\n",
    "data[:, 1] = err_sigma * np.random.randn(N) + err_mu # errors\n",
    "data[:, 1] = data[:, 0] * true_w1 + data[:, 0] * data[:, 0] * true_w2 + true_b + data[:, 1]\n",
    "\n",
    "# peek into the dataset\n",
    "data[:5]"
   ]
  },
  {
   "cell_type": "markdown",
   "metadata": {},
   "source": [
    "## Plot the toy dataset"
   ]
  },
  {
   "cell_type": "code",
   "execution_count": 3,
   "metadata": {},
   "outputs": [
    {
     "data": {
      "image/png": "[encoded data removed]",
      "text/plain": [
       "<Figure size 432x288 with 1 Axes>"
      ]
     },
     "metadata": {
      "needs_background": "light"
     },
     "output_type": "display_data"
    }
   ],
   "source": [
    "plt.scatter(data[:, 0], data[:, 1])\n",
    "plt.show()"
   ]
  },
  {
   "cell_type": "markdown",
   "metadata": {},
   "source": [
    "## Model the relationship"
   ]
  },
  {
   "cell_type": "code",
   "execution_count": 4,
   "metadata": {},
   "outputs": [],
   "source": [
    "# We are going to model the data using 3 different polynomials\n",
    "# 1) x2 = w * x1 + b\n",
    "# 2) x2 = w1 * x1 + w2 * x1*x1 + b\n",
    "# 3) x2 = w1 * x1 + w2 * x1*x1 + w3 * x1*x1*x1 + b\n",
    "\n",
    "# initial values for w and b\n",
    "w1 = 1.0\n",
    "w2 = 1.0\n",
    "w3 = 2.5\n",
    "b = 0.0\n",
    "\n",
    "# predicts target values according to the models\n",
    "def predict1(X):\n",
    "    return X*w1 + b\n",
    "\n",
    "def predict2(X):\n",
    "    return X*w1 + X*X*w2 + b\n",
    "\n",
    "def predict3(X):\n",
    "    return X*w1 + X*X*w2 + X*X*X*w3 + b"
   ]
  },
  {
   "cell_type": "markdown",
   "metadata": {},
   "source": [
    "### Untrained regression"
   ]
  },
  {
   "cell_type": "code",
   "execution_count": 5,
   "metadata": {},
   "outputs": [],
   "source": [
    "x = np.linspace(-2.0, 3.0)\n",
    "Y1 = predict1(x)\n",
    "Y2 = predict2(x)\n",
    "Y3 = predict3(x)"
   ]
  },
  {
   "cell_type": "code",
   "execution_count": 6,
   "metadata": {},
   "outputs": [
    {
     "data": {
      "text/plain": [
       "[<matplotlib.lines.Line2D at 0x1c4fbf3c0b8>]"
      ]
     },
     "execution_count": 6,
     "metadata": {},
     "output_type": "execute_result"
    },
    {
     "data": {
      "image/png": "[encoded data removed]",
      "text/plain": [
       "<Figure size 432x288 with 1 Axes>"
      ]
     },
     "metadata": {
      "needs_background": "light"
     },
     "output_type": "display_data"
    }
   ],
   "source": [
    "# first degree polynomial\n",
    "plt.scatter(data[:, 0], data[:, 1])\n",
    "plt.plot(x, Y1, color='red')"
   ]
  },
  {
   "cell_type": "code",
   "execution_count": 7,
   "metadata": {},
   "outputs": [
    {
     "data": {
      "text/plain": [
       "[<matplotlib.lines.Line2D at 0x1c4fbfa4cf8>]"
      ]
     },
     "execution_count": 7,
     "metadata": {},
     "output_type": "execute_result"
    },
    {
     "data": {
      "image/png": "[encoded data removed]",
      "text/plain": [
       "<Figure size 432x288 with 1 Axes>"
      ]
     },
     "metadata": {
      "needs_background": "light"
     },
     "output_type": "display_data"
    }
   ],
   "source": [
    "# second degree polynomial\n",
    "plt.scatter(data[:, 0], data[:, 1])\n",
    "plt.plot(x, Y2, color='red')"
   ]
  },
  {
   "cell_type": "code",
   "execution_count": 8,
   "metadata": {},
   "outputs": [
    {
     "data": {
      "text/plain": [
       "[<matplotlib.lines.Line2D at 0x1c4fc012a58>]"
      ]
     },
     "execution_count": 8,
     "metadata": {},
     "output_type": "execute_result"
    },
    {
     "data": {
      "image/png": "[encoded data removed]",
      "text/plain": [
       "<Figure size 432x288 with 1 Axes>"
      ]
     },
     "metadata": {
      "needs_background": "light"
     },
     "output_type": "display_data"
    }
   ],
   "source": [
    "# third degree polynomial\n",
    "plt.scatter(data[:, 0], data[:, 1])\n",
    "plt.plot(x, Y3, color='red')"
   ]
  },
  {
   "cell_type": "markdown",
   "metadata": {},
   "source": [
    "## Train the model"
   ]
  },
  {
   "cell_type": "markdown",
   "metadata": {},
   "source": [
    "### Split into training set and validation set"
   ]
  },
  {
   "cell_type": "code",
   "execution_count": 9,
   "metadata": {},
   "outputs": [],
   "source": [
    "X_train = data[:-10, 0]\n",
    "T_train = data[:-10, 1]\n",
    "\n",
    "X_test = data[-10:, 0]\n",
    "T_test = data[-10:, 1]"
   ]
  },
  {
   "cell_type": "markdown",
   "metadata": {},
   "source": [
    "### Plot the train and test data"
   ]
  },
  {
   "cell_type": "code",
   "execution_count": 10,
   "metadata": {},
   "outputs": [
    {
     "data": {
      "text/plain": [
       "<matplotlib.collections.PathCollection at 0x1c4fc09ccc0>"
      ]
     },
     "execution_count": 10,
     "metadata": {},
     "output_type": "execute_result"
    },
    {
     "data": {
      "image/png": "[encoded data removed]",
      "text/plain": [
       "<Figure size 432x288 with 1 Axes>"
      ]
     },
     "metadata": {
      "needs_background": "light"
     },
     "output_type": "display_data"
    }
   ],
   "source": [
    "plt.scatter(X_train, T_train)"
   ]
  },
  {
   "cell_type": "code",
   "execution_count": 11,
   "metadata": {},
   "outputs": [
    {
     "data": {
      "text/plain": [
       "<matplotlib.collections.PathCollection at 0x1c4fc0f9550>"
      ]
     },
     "execution_count": 11,
     "metadata": {},
     "output_type": "execute_result"
    },
    {
     "data": {
      "image/png": "[encoded data removed]",
      "text/plain": [
       "<Figure size 432x288 with 1 Axes>"
      ]
     },
     "metadata": {
      "needs_background": "light"
     },
     "output_type": "display_data"
    }
   ],
   "source": [
    "plt.scatter(X_test, T_test)"
   ]
  },
  {
   "cell_type": "markdown",
   "metadata": {},
   "source": [
    "### Loss function"
   ]
  },
  {
   "cell_type": "code",
   "execution_count": 12,
   "metadata": {},
   "outputs": [],
   "source": [
    "# Mean squared error\n",
    "def mean_squared_error(T, Y):\n",
    "    return np.square(Y - T).mean()"
   ]
  },
  {
   "cell_type": "markdown",
   "metadata": {},
   "source": [
    "### Gradient descent - first degree polynomial"
   ]
  },
  {
   "cell_type": "code",
   "execution_count": 13,
   "metadata": {},
   "outputs": [
    {
     "name": "stdout",
     "output_type": "stream",
     "text": [
      "error: 23.676140495152847\n",
      "error: 21.76674095551216\n",
      "error: 21.416344896506786\n",
      "error: 21.33151999438405\n",
      "error: 21.309197666459767\n",
      "final error: 21.308478061944452\n",
      "iterations: 407\n"
     ]
    }
   ],
   "source": [
    "# initial parameters\n",
    "w1 = 1.0\n",
    "b = 0.0\n",
    "\n",
    "# training rate\n",
    "alpha = 0.01\n",
    "\n",
    "# error_delta\n",
    "err_delta = 0.0001\n",
    "\n",
    "# get starting error\n",
    "Y_train = predict1(X_train)\n",
    "err_prev = mean_squared_error(T_train, Y_train)\n",
    "\n",
    "# counter\n",
    "cnt = 0\n",
    "\n",
    "while True:\n",
    "    # print error every 10 steps\n",
    "    if cnt % 100 == 0:\n",
    "        print('error: ' + str(err_prev))\n",
    "    cnt = cnt + 1\n",
    "    \n",
    "    # gradient descent\n",
    "    grad_w = ((Y_train - T_train) * X_train).mean()\n",
    "    grad_b = (Y_train - T_train).mean()\n",
    "    w1 = w1 - alpha * grad_w\n",
    "    b = b - alpha * grad_b\n",
    "    \n",
    "    # re-evaluate model\n",
    "    Y_train = predict1(X_train)\n",
    "    err = mean_squared_error(T_train, Y_train)\n",
    "\n",
    "    # check if trained\n",
    "    if abs(err - err_prev) < err_delta:\n",
    "        break\n",
    "    err_prev = err\n",
    "    \n",
    "\n",
    "print('final error: ' + str(err))\n",
    "print('iterations: ' + str(cnt))"
   ]
  },
  {
   "cell_type": "markdown",
   "metadata": {},
   "source": [
    "### Validate the model"
   ]
  },
  {
   "cell_type": "code",
   "execution_count": 14,
   "metadata": {},
   "outputs": [
    {
     "data": {
      "text/plain": [
       "32.960501203004114"
      ]
     },
     "execution_count": 14,
     "metadata": {},
     "output_type": "execute_result"
    }
   ],
   "source": [
    "Y_test = predict1(X_test)\n",
    "validation_err = mean_squared_error(T_test, Y_test)\n",
    "validation_err"
   ]
  },
  {
   "cell_type": "markdown",
   "metadata": {},
   "source": [
    "### Plot the prediction line"
   ]
  },
  {
   "cell_type": "code",
   "execution_count": 15,
   "metadata": {},
   "outputs": [
    {
     "data": {
      "text/plain": [
       "[<matplotlib.lines.Line2D at 0x1c4fc1427f0>]"
      ]
     },
     "execution_count": 15,
     "metadata": {},
     "output_type": "execute_result"
    },
    {
     "data": {
      "image/png": "[encoded data removed]",
      "text/plain": [
       "<Figure size 432x288 with 1 Axes>"
      ]
     },
     "metadata": {
      "needs_background": "light"
     },
     "output_type": "display_data"
    }
   ],
   "source": [
    "plt.scatter(data[:, 0], data[:, 1])\n",
    "\n",
    "x = np.linspace(-2.0, 3.0)\n",
    "plt.plot(x, predict1(x), color='red')"
   ]
  },
  {
   "cell_type": "markdown",
   "metadata": {},
   "source": [
    "### Gradient descent - second degree polynomial"
   ]
  },
  {
   "cell_type": "code",
   "execution_count": 16,
   "metadata": {},
   "outputs": [
    {
     "name": "stdout",
     "output_type": "stream",
     "text": [
      "error: 36.12580859053904\n",
      "error: 8.015065101613189\n",
      "error: 3.6287994507300962\n",
      "error: 2.3599170302022667\n",
      "error: 1.980661763428955\n",
      "error: 1.8640357533657619\n",
      "error: 1.8272846765485835\n",
      "final error: 1.8185985098363338\n",
      "iterations: 661\n"
     ]
    }
   ],
   "source": [
    "# initial parameters\n",
    "w1 = 1.0\n",
    "w2 = 1.0\n",
    "b = 0.0\n",
    "\n",
    "# training rate\n",
    "alpha = 0.01\n",
    "\n",
    "# error_delta\n",
    "err_delta = 0.0001\n",
    "\n",
    "# get starting error\n",
    "Y_train = predict2(X_train)\n",
    "err_prev = mean_squared_error(T_train, Y_train)\n",
    "\n",
    "# counter\n",
    "cnt = 0\n",
    "\n",
    "while True:\n",
    "    # print error every 10 steps\n",
    "    if cnt % 100 == 0:\n",
    "        print('error: ' + str(err_prev))\n",
    "    cnt = cnt + 1\n",
    "    \n",
    "    # gradient descent\n",
    "    grad_w1 = ((Y_train - T_train) * X_train).mean()\n",
    "    grad_w2 = ((Y_train - T_train) * X_train*X_train).mean()\n",
    "    grad_b = (Y_train - T_train).mean()\n",
    "    w1 = w1 - alpha * grad_w1\n",
    "    w2 = w2 - alpha * grad_w2\n",
    "    b = b - alpha * grad_b\n",
    "    \n",
    "    # re-evaluate model\n",
    "    Y_train = predict2(X_train)\n",
    "    err = mean_squared_error(T_train, Y_train)\n",
    "\n",
    "    # check if trained\n",
    "    if abs(err - err_prev) < err_delta:\n",
    "        break\n",
    "    err_prev = err\n",
    "    \n",
    "\n",
    "print('final error: ' + str(err))\n",
    "print('iterations: ' + str(cnt))"
   ]
  },
  {
   "cell_type": "markdown",
   "metadata": {},
   "source": [
    "### Validate the model"
   ]
  },
  {
   "cell_type": "code",
   "execution_count": 17,
   "metadata": {},
   "outputs": [
    {
     "data": {
      "text/plain": [
       "0.6142407080891725"
      ]
     },
     "execution_count": 17,
     "metadata": {},
     "output_type": "execute_result"
    }
   ],
   "source": [
    "Y_test = predict2(X_test)\n",
    "validation_err = mean_squared_error(T_test, Y_test)\n",
    "validation_err"
   ]
  },
  {
   "cell_type": "markdown",
   "metadata": {},
   "source": [
    "### Plot the prediction line"
   ]
  },
  {
   "cell_type": "code",
   "execution_count": 18,
   "metadata": {},
   "outputs": [
    {
     "data": {
      "text/plain": [
       "[<matplotlib.lines.Line2D at 0x1c4fc1c1ef0>]"
      ]
     },
     "execution_count": 18,
     "metadata": {},
     "output_type": "execute_result"
    },
    {
     "data": {
      "image/png": "[encoded data removed]",
      "text/plain": [
       "<Figure size 432x288 with 1 Axes>"
      ]
     },
     "metadata": {
      "needs_background": "light"
     },
     "output_type": "display_data"
    }
   ],
   "source": [
    "plt.scatter(data[:, 0], data[:, 1])\n",
    "\n",
    "x = np.linspace(-2.0, 3.0)\n",
    "plt.plot(x, predict2(x), color='red')"
   ]
  },
  {
   "cell_type": "markdown",
   "metadata": {},
   "source": [
    "### Gradient descent - third degree polynomial"
   ]
  },
  {
   "cell_type": "code",
   "execution_count": 19,
   "metadata": {},
   "outputs": [
    {
     "name": "stdout",
     "output_type": "stream",
     "text": [
      "error: 59.27595438978372\n",
      "error: 7.927652436823322\n",
      "error: 3.7072738854658334\n",
      "error: 2.414958655143286\n",
      "error: 2.0046700425609845\n",
      "error: 1.8731858103169206\n",
      "error: 1.8304372631733665\n",
      "final error: 1.8179495742456266\n",
      "iterations: 680\n"
     ]
    }
   ],
   "source": [
    "# initial parameters\n",
    "w1 = 1.0\n",
    "w2 = 1.0\n",
    "w3 = 1.0\n",
    "b = 0.0\n",
    "\n",
    "# training rate\n",
    "alpha = 0.01\n",
    "\n",
    "# error_delta\n",
    "err_delta = 0.0001\n",
    "\n",
    "# get starting error\n",
    "Y_train = predict3(X_train)\n",
    "err_prev = mean_squared_error(T_train, Y_train)\n",
    "\n",
    "# counter\n",
    "cnt = 0\n",
    "\n",
    "while True:\n",
    "    # print error every 10 steps\n",
    "    if cnt % 100 == 0:\n",
    "        print('error: ' + str(err_prev))\n",
    "    cnt = cnt + 1\n",
    "    \n",
    "    # gradient descent\n",
    "    grad_w1 = ((Y_train - T_train) * X_train).mean()\n",
    "    grad_w2 = ((Y_train - T_train) * X_train*X_train).mean()\n",
    "    grad_w3 = ((Y_train - T_train) * X_train*X_train*X_train).mean()\n",
    "    grad_b = (Y_train - T_train).mean()\n",
    "    w1 = w1 - alpha * grad_w1\n",
    "    w2 = w2 - alpha * grad_w2\n",
    "    w3 = w3 - alpha * grad_w3\n",
    "    b = b - alpha * grad_b\n",
    "    \n",
    "    # re-evaluate model\n",
    "    Y_train = predict3(X_train)\n",
    "    err = mean_squared_error(T_train, Y_train)\n",
    "\n",
    "    # check if trained\n",
    "    if abs(err - err_prev) < err_delta:\n",
    "        break\n",
    "    err_prev = err\n",
    "    \n",
    "\n",
    "print('final error: ' + str(err))\n",
    "print('iterations: ' + str(cnt))"
   ]
  },
  {
   "cell_type": "markdown",
   "metadata": {},
   "source": [
    "### Validate the model"
   ]
  },
  {
   "cell_type": "code",
   "execution_count": 20,
   "metadata": {},
   "outputs": [
    {
     "data": {
      "text/plain": [
       "0.6159545887415835"
      ]
     },
     "execution_count": 20,
     "metadata": {},
     "output_type": "execute_result"
    }
   ],
   "source": [
    "Y_test = predict3(X_test)\n",
    "validation_err = mean_squared_error(T_test, Y_test)\n",
    "validation_err"
   ]
  },
  {
   "cell_type": "markdown",
   "metadata": {},
   "source": [
    "### Plot the prediction line"
   ]
  },
  {
   "cell_type": "code",
   "execution_count": 21,
   "metadata": {},
   "outputs": [
    {
     "data": {
      "text/plain": [
       "[<matplotlib.lines.Line2D at 0x1c4fc1f1588>]"
      ]
     },
     "execution_count": 21,
     "metadata": {},
     "output_type": "execute_result"
    },
    {
     "data": {
      "image/png": "[encoded data removed]",
      "text/plain": [
       "<Figure size 432x288 with 1 Axes>"
      ]
     },
     "metadata": {
      "needs_background": "light"
     },
     "output_type": "display_data"
    }
   ],
   "source": [
    "plt.scatter(data[:, 0], data[:, 1])\n",
    "\n",
    "x = np.linspace(-2.0, 3.0)\n",
    "plt.plot(x, predict2(x), color='red')"
   ]
  },
  {
   "cell_type": "markdown",
   "metadata": {},
   "source": [
    "### Learned parameters"
   ]
  },
  {
   "cell_type": "code",
   "execution_count": 22,
   "metadata": {},
   "outputs": [
    {
     "data": {
      "text/plain": [
       "[4.391307796376812,\n",
       " -3.4763049512268114,\n",
       " 0.005615410059712166,\n",
       " 2.3649901777810864]"
      ]
     },
     "execution_count": 22,
     "metadata": {},
     "output_type": "execute_result"
    }
   ],
   "source": [
    "[w1, w2, w3, b]"
   ]
  },
  {
   "cell_type": "markdown",
   "metadata": {},
   "source": [
    "## Conclusions"
   ]
  },
  {
   "cell_type": "markdown",
   "metadata": {},
   "source": [
    "- First degree polynomial has high bias and high validation error, it is just a bad model for the dataset\n",
    "- Second degree polynomial fits much better, showing low bias and low validation error, just as expected\n",
    "- Third degree polynomial actually does not overfit, and behaves almost identical to the second degree polynomial model. Taking the closer look, we discover that in most cases it simply learns to keep w3 close to zero, basically converting itself to second degree polynomial. However, on average, it takes more iterations to train it comparing to training second degree polynomial directly"
   ]
  }
 ],
 "metadata": {
  "kernelspec": {
   "display_name": "Python 3",
   "language": "python",
   "name": "python3"
  },
  "language_info": {
   "codemirror_mode": {
    "name": "ipython",
    "version": 3
   },
   "file_extension": ".py",
   "mimetype": "text/x-python",
   "name": "python",
   "nbconvert_exporter": "python",
   "pygments_lexer": "ipython3",
   "version": "3.7.3"
  }
 },
 "nbformat": 4,
 "nbformat_minor": 2
}
