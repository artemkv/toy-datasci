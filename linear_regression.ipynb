{
 "cells": [
  {
   "cell_type": "markdown",
   "metadata": {},
   "source": [
    "# Linear regression"
   ]
  },
  {
   "cell_type": "markdown",
   "metadata": {},
   "source": [
    "Goals:\n",
    "- hand-code the linear regression algorithm on toy dataset\n",
    "- train the algorithm\n",
    "- estimate the error"
   ]
  },
  {
   "cell_type": "markdown",
   "metadata": {},
   "source": [
    "## Import basic libraries"
   ]
  },
  {
   "cell_type": "code",
   "execution_count": 1,
   "metadata": {},
   "outputs": [],
   "source": [
    "import numpy as np\n",
    "from matplotlib import pyplot as plt\n",
    "\n",
    "%matplotlib inline"
   ]
  },
  {
   "cell_type": "markdown",
   "metadata": {},
   "source": [
    "## Create a toy dataset"
   ]
  },
  {
   "cell_type": "code",
   "execution_count": 2,
   "metadata": {},
   "outputs": [
    {
     "data": {
      "text/plain": [
       "array([[0.88628543, 2.53705424],\n",
       "       [1.16725202, 8.53631343],\n",
       "       [0.55244297, 7.35099534],\n",
       "       [0.78901778, 5.15026873],\n",
       "       [0.79588278, 3.82176843]])"
      ]
     },
     "execution_count": 2,
     "metadata": {},
     "output_type": "execute_result"
    }
   ],
   "source": [
    "N = 100\n",
    "D = 2\n",
    "\n",
    "# data is normally distributed with mean data_mu and variance data_sigma\n",
    "data_mu = .5\n",
    "data_sigma = 1\n",
    "\n",
    "# we believe that there is a \"true\" underlying dependency x2 = true_w * x1 + true_b\n",
    "# and if some x2 do not land on the line exactly, its due to an error\n",
    "true_w = 4.5\n",
    "true_b = 2.5\n",
    "\n",
    "# error is normally distributed random variable with mean err_mu and variance err_sigma\n",
    "# that is, the error is sum of many different random influences\n",
    "err_mu = 0\n",
    "err_sigma = 1.5\n",
    "\n",
    "# make up the dataset\n",
    "data = np.empty([N, D], dtype=float)\n",
    "data[:, 0] = data_sigma * np.random.randn(N) + data_mu\n",
    "data[:, 1] = err_sigma * np.random.randn(N) + err_mu # errors\n",
    "data[:, 1] = data[:, 0] * true_w + true_b + data[:, 1]\n",
    "\n",
    "# peek into the dataset\n",
    "data[:5]"
   ]
  },
  {
   "cell_type": "markdown",
   "metadata": {},
   "source": [
    "## Plot the toy dataset"
   ]
  },
  {
   "cell_type": "code",
   "execution_count": 3,
   "metadata": {},
   "outputs": [
    {
     "data": {
      "image/png": "[encoded data removed]",
      "text/plain": [
       "<Figure size 432x288 with 1 Axes>"
      ]
     },
     "metadata": {
      "needs_background": "light"
     },
     "output_type": "display_data"
    }
   ],
   "source": [
    "plt.scatter(data[:, 0], data[:, 1])\n",
    "plt.show()"
   ]
  },
  {
   "cell_type": "markdown",
   "metadata": {},
   "source": [
    "## Model the relationship"
   ]
  },
  {
   "cell_type": "code",
   "execution_count": 4,
   "metadata": {},
   "outputs": [
    {
     "data": {
      "text/plain": [
       "array([0.88628543, 1.16725202, 0.55244297, 0.78901778, 0.79588278])"
      ]
     },
     "execution_count": 4,
     "metadata": {},
     "output_type": "execute_result"
    }
   ],
   "source": [
    "# Our model is: x2 = w * x1 + b\n",
    "\n",
    "# initial values for w and b\n",
    "w = 1.0\n",
    "b = 0.0\n",
    "\n",
    "# predicts target values according to the model\n",
    "def predict(X):\n",
    "    return X * w + b\n",
    "\n",
    "# predictions\n",
    "Y = predict(data[:, 0])\n",
    "Y[:5]"
   ]
  },
  {
   "cell_type": "markdown",
   "metadata": {},
   "source": [
    "### Untrained regression"
   ]
  },
  {
   "cell_type": "code",
   "execution_count": 5,
   "metadata": {},
   "outputs": [
    {
     "data": {
      "text/plain": [
       "[<matplotlib.lines.Line2D at 0x27b95245c50>]"
      ]
     },
     "execution_count": 5,
     "metadata": {},
     "output_type": "execute_result"
    },
    {
     "data": {
      "image/png": "[encoded data removed]",
      "text/plain": [
       "<Figure size 432x288 with 1 Axes>"
      ]
     },
     "metadata": {
      "needs_background": "light"
     },
     "output_type": "display_data"
    }
   ],
   "source": [
    "# plot predictions\n",
    "plt.scatter(data[:, 0], data[:, 1])\n",
    "plt.plot(data[:, 0], Y, color='red')"
   ]
  },
  {
   "cell_type": "code",
   "execution_count": 6,
   "metadata": {},
   "outputs": [
    {
     "data": {
      "text/plain": [
       "28.385020164580293"
      ]
     },
     "execution_count": 6,
     "metadata": {},
     "output_type": "execute_result"
    }
   ],
   "source": [
    "# Calculate mean squared error\n",
    "def mean_squared_error(T, Y):\n",
    "    return np.square(Y - T).mean()\n",
    "\n",
    "# error on untrained model\n",
    "mean_squared_error(data[:, 1], Y)"
   ]
  },
  {
   "cell_type": "markdown",
   "metadata": {},
   "source": [
    "## Train the model"
   ]
  },
  {
   "cell_type": "markdown",
   "metadata": {},
   "source": [
    "### Split into training set and validation set"
   ]
  },
  {
   "cell_type": "code",
   "execution_count": 7,
   "metadata": {},
   "outputs": [],
   "source": [
    "X_train = data[:-10, 0]\n",
    "T_train = data[:-10, 1]\n",
    "\n",
    "X_test = data[-10:, 0]\n",
    "T_test = data[-10:, 1]"
   ]
  },
  {
   "cell_type": "markdown",
   "metadata": {},
   "source": [
    "### Plot the train and test data"
   ]
  },
  {
   "cell_type": "code",
   "execution_count": 8,
   "metadata": {},
   "outputs": [
    {
     "data": {
      "text/plain": [
       "<matplotlib.collections.PathCollection at 0x27b952cb160>"
      ]
     },
     "execution_count": 8,
     "metadata": {},
     "output_type": "execute_result"
    },
    {
     "data": {
      "image/png": "[encoded data removed]",
      "text/plain": [
       "<Figure size 432x288 with 1 Axes>"
      ]
     },
     "metadata": {
      "needs_background": "light"
     },
     "output_type": "display_data"
    }
   ],
   "source": [
    "plt.scatter(X_train, T_train)"
   ]
  },
  {
   "cell_type": "code",
   "execution_count": 9,
   "metadata": {},
   "outputs": [
    {
     "data": {
      "text/plain": [
       "<matplotlib.collections.PathCollection at 0x27b95339160>"
      ]
     },
     "execution_count": 9,
     "metadata": {},
     "output_type": "execute_result"
    },
    {
     "data": {
      "image/png": "[encoded data removed]",
      "text/plain": [
       "<Figure size 432x288 with 1 Axes>"
      ]
     },
     "metadata": {
      "needs_background": "light"
     },
     "output_type": "display_data"
    }
   ],
   "source": [
    "plt.scatter(X_test, T_test)"
   ]
  },
  {
   "cell_type": "markdown",
   "metadata": {},
   "source": [
    "### Gradient descent"
   ]
  },
  {
   "cell_type": "code",
   "execution_count": 10,
   "metadata": {},
   "outputs": [
    {
     "name": "stdout",
     "output_type": "stream",
     "text": [
      "error: 28.313165018009634\n",
      "error: 20.998038203935355\n",
      "error: 15.733472711932128\n",
      "error: 11.94448476779315\n",
      "error: 9.217341356052414\n",
      "error: 7.2543352430272625\n",
      "error: 5.841244388415142\n",
      "error: 4.823918058545721\n",
      "error: 4.091429813607405\n",
      "error: 3.5639555200170503\n",
      "error: 3.184051138798187\n",
      "error: 2.9103767444467796\n",
      "error: 2.7131806769088653\n",
      "error: 2.571050163646579\n",
      "final error: 2.49588203688528\n",
      "iterations: 137\n"
     ]
    }
   ],
   "source": [
    "# initial parameters\n",
    "w = 1.0\n",
    "b = 0.0\n",
    "\n",
    "# learning rate\n",
    "alpha = 0.01\n",
    "\n",
    "# error_delta\n",
    "err_delta = 0.01\n",
    "\n",
    "# get starting error\n",
    "Y_train = predict(X_train)\n",
    "err_prev = mean_squared_error(T_train, Y_train)\n",
    "\n",
    "# counter\n",
    "cnt = 0\n",
    "\n",
    "while True:\n",
    "    # print error every 10 steps\n",
    "    if cnt % 10 == 0:\n",
    "        print('error: ' + str(err_prev))\n",
    "    cnt = cnt + 1\n",
    "    \n",
    "    # gradient descent\n",
    "    grad_w = ((Y_train - T_train) * X_train).mean()\n",
    "    grad_b = (Y_train - T_train).mean()\n",
    "    w = w - alpha * grad_w\n",
    "    b = b - alpha * grad_b\n",
    "    \n",
    "    # re-evaluate model\n",
    "    Y_train = predict(X_train)\n",
    "    err = mean_squared_error(T_train, Y_train)\n",
    "\n",
    "    # check if trained\n",
    "    if abs(err - err_prev) < err_delta:\n",
    "        break\n",
    "    err_prev = err\n",
    "    \n",
    "\n",
    "print('final error: ' + str(err))\n",
    "print('iterations: ' + str(cnt))"
   ]
  },
  {
   "cell_type": "markdown",
   "metadata": {},
   "source": [
    "### Validate the model"
   ]
  },
  {
   "cell_type": "code",
   "execution_count": 11,
   "metadata": {},
   "outputs": [
    {
     "data": {
      "text/plain": [
       "3.0139772423247964"
      ]
     },
     "execution_count": 11,
     "metadata": {},
     "output_type": "execute_result"
    }
   ],
   "source": [
    "Y_test = predict(X_test)\n",
    "validation_err = mean_squared_error(T_test, Y_test)\n",
    "validation_err"
   ]
  },
  {
   "cell_type": "markdown",
   "metadata": {},
   "source": [
    "### Plot the prediction line"
   ]
  },
  {
   "cell_type": "code",
   "execution_count": 12,
   "metadata": {},
   "outputs": [
    {
     "data": {
      "text/plain": [
       "[<matplotlib.lines.Line2D at 0x27b953740f0>]"
      ]
     },
     "execution_count": 12,
     "metadata": {},
     "output_type": "execute_result"
    },
    {
     "data": {
      "image/png": "[encoded data removed]",
      "text/plain": [
       "<Figure size 432x288 with 1 Axes>"
      ]
     },
     "metadata": {
      "needs_background": "light"
     },
     "output_type": "display_data"
    }
   ],
   "source": [
    "Y = predict(data[:, 0])\n",
    "plt.scatter(data[:, 0], data[:, 1])\n",
    "plt.plot(data[:, 0], Y, color='red')"
   ]
  },
  {
   "cell_type": "markdown",
   "metadata": {},
   "source": [
    "## Conclusions"
   ]
  },
  {
   "cell_type": "markdown",
   "metadata": {},
   "source": [
    "Gradient descent with learning rate = 0.01 allowed training model in 137 iterations, achieving error of 3.014 on validation set"
   ]
  }
 ],
 "metadata": {
  "kernelspec": {
   "display_name": "Python 3",
   "language": "python",
   "name": "python3"
  },
  "language_info": {
   "codemirror_mode": {
    "name": "ipython",
    "version": 3
   },
   "file_extension": ".py",
   "mimetype": "text/x-python",
   "name": "python",
   "nbconvert_exporter": "python",
   "pygments_lexer": "ipython3",
   "version": "3.7.3"
  }
 },
 "nbformat": 4,
 "nbformat_minor": 2
}
