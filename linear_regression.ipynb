{
 "cells": [
  {
   "cell_type": "markdown",
   "metadata": {},
   "source": [
    "# Linear regression"
   ]
  },
  {
   "cell_type": "markdown",
   "metadata": {},
   "source": [
    "Goals:\n",
    "- hand-code the linear regression algorithm on toy dataset\n",
    "- train the algorithm\n",
    "- estimate the error"
   ]
  },
  {
   "cell_type": "markdown",
   "metadata": {},
   "source": [
    "## Import basic libraries"
   ]
  },
  {
   "cell_type": "code",
   "execution_count": 4,
   "metadata": {},
   "outputs": [],
   "source": [
    "import numpy as np\n",
    "import pandas as pd\n",
    "from matplotlib import pyplot as plt\n",
    "\n",
    "%matplotlib inline"
   ]
  },
  {
   "cell_type": "markdown",
   "metadata": {},
   "source": [
    "## Create a toy dataset"
   ]
  },
  {
   "cell_type": "code",
   "execution_count": 81,
   "metadata": {},
   "outputs": [
    {
     "data": {
      "text/plain": [
       "array([[ 1.46968151,  8.26871524],\n",
       "       [-0.12544014,  1.3982057 ],\n",
       "       [-0.38783065,  1.00991837],\n",
       "       [ 1.72244575,  9.84476391],\n",
       "       [ 1.90986439, 11.28809321]])"
      ]
     },
     "execution_count": 81,
     "metadata": {},
     "output_type": "execute_result"
    }
   ],
   "source": [
    "N = 100\n",
    "D = 2\n",
    "\n",
    "# data is normally distributed with mean data_mu and variance data_sigma\n",
    "data_mu = .5\n",
    "data_sigma = 1\n",
    "\n",
    "# we believe that there is a \"true\" underlying dependency x2 = true_w * x1 + true_b\n",
    "# and if some x2 do not land on the line exactly, its due to an error\n",
    "true_w = 4.5\n",
    "true_b = 2.5\n",
    "\n",
    "# error is normally distributed random variable with mean err_mu and variance err_sigma\n",
    "# that is, the error is sum of many different random influences\n",
    "err_mu = 0\n",
    "err_sigma = 0.5\n",
    "\n",
    "# make up the dataset\n",
    "data = np.empty([N, D], dtype=float)\n",
    "data[:, 0] = data_sigma * np.random.randn(N) + data_mu\n",
    "data[:, 1] = err_sigma * np.random.randn(N) + err_mu # errors\n",
    "data[:, 1] = data[:, 0] * true_w + true_b + data[:, 1]\n",
    "\n",
    "# peek into the dataset\n",
    "data[:5]"
   ]
  },
  {
   "cell_type": "markdown",
   "metadata": {},
   "source": [
    "## Plot the toy dataset"
   ]
  },
  {
   "cell_type": "code",
   "execution_count": 82,
   "metadata": {},
   "outputs": [
    {
     "data": {
      "image/png": "[encoded data removed]",
      "text/plain": [
       "<Figure size 432x288 with 1 Axes>"
      ]
     },
     "metadata": {
      "needs_background": "light"
     },
     "output_type": "display_data"
    }
   ],
   "source": [
    "plt.scatter(data[:, 0], data[:, 1])\n",
    "plt.show()"
   ]
  },
  {
   "cell_type": "markdown",
   "metadata": {},
   "source": [
    "## Model the relationship"
   ]
  },
  {
   "cell_type": "code",
   "execution_count": 83,
   "metadata": {},
   "outputs": [
    {
     "data": {
      "text/plain": [
       "array([ 1.46968151, -0.12544014, -0.38783065,  1.72244575,  1.90986439])"
      ]
     },
     "execution_count": 83,
     "metadata": {},
     "output_type": "execute_result"
    }
   ],
   "source": [
    "# Our model is: x2 = w * x1 + b\n",
    "\n",
    "# initial values for w and b\n",
    "w = 1.0\n",
    "b = 0.0\n",
    "\n",
    "# predicts target values according to the model\n",
    "def predict(X):\n",
    "    return X * w + b\n",
    "\n",
    "# predictions\n",
    "Y = predict(data[:, 0])\n",
    "Y[:5]"
   ]
  },
  {
   "cell_type": "code",
   "execution_count": 84,
   "metadata": {},
   "outputs": [
    {
     "data": {
      "text/plain": [
       "[<matplotlib.lines.Line2D at 0x20e8162e588>]"
      ]
     },
     "execution_count": 84,
     "metadata": {},
     "output_type": "execute_result"
    },
    {
     "data": {
      "image/png": "[encoded data removed]",
      "text/plain": [
       "<Figure size 432x288 with 1 Axes>"
      ]
     },
     "metadata": {
      "needs_background": "light"
     },
     "output_type": "display_data"
    }
   ],
   "source": [
    "# plot predictions\n",
    "plt.scatter(data[:, 0], data[:, 1])\n",
    "plt.plot(data[:, 0], Y, color='red')"
   ]
  },
  {
   "cell_type": "code",
   "execution_count": 94,
   "metadata": {},
   "outputs": [
    {
     "data": {
      "text/plain": [
       "31.225065877786314"
      ]
     },
     "execution_count": 94,
     "metadata": {},
     "output_type": "execute_result"
    }
   ],
   "source": [
    "# Calculate mean squared error\n",
    "def mean_squared_error(T, Y):\n",
    "    return np.square(Y - T).mean()\n",
    "\n",
    "# error on untrained model\n",
    "mean_squared_error(data[:, 1], Y)"
   ]
  },
  {
   "cell_type": "markdown",
   "metadata": {},
   "source": [
    "## Train the model"
   ]
  },
  {
   "cell_type": "markdown",
   "metadata": {},
   "source": [
    "### Split into training set and validation set"
   ]
  },
  {
   "cell_type": "code",
   "execution_count": 87,
   "metadata": {},
   "outputs": [],
   "source": [
    "X_train = data[:-10, 0]\n",
    "T_train = data[:-10, 1]\n",
    "\n",
    "X_test = data[-10:, 0]\n",
    "T_test = data[-10:, 1]"
   ]
  },
  {
   "cell_type": "markdown",
   "metadata": {},
   "source": [
    "### Plot the train and test data"
   ]
  },
  {
   "cell_type": "code",
   "execution_count": 89,
   "metadata": {},
   "outputs": [
    {
     "data": {
      "text/plain": [
       "<matplotlib.collections.PathCollection at 0x20e8170f898>"
      ]
     },
     "execution_count": 89,
     "metadata": {},
     "output_type": "execute_result"
    },
    {
     "data": {
      "image/png": "[encoded data removed]",
      "text/plain": [
       "<Figure size 432x288 with 1 Axes>"
      ]
     },
     "metadata": {
      "needs_background": "light"
     },
     "output_type": "display_data"
    }
   ],
   "source": [
    "plt.scatter(X_train, T_train)"
   ]
  },
  {
   "cell_type": "code",
   "execution_count": 90,
   "metadata": {},
   "outputs": [
    {
     "data": {
      "text/plain": [
       "<matplotlib.collections.PathCollection at 0x20e81760e48>"
      ]
     },
     "execution_count": 90,
     "metadata": {},
     "output_type": "execute_result"
    },
    {
     "data": {
      "image/png": "[encoded data removed]",
      "text/plain": [
       "<Figure size 432x288 with 1 Axes>"
      ]
     },
     "metadata": {
      "needs_background": "light"
     },
     "output_type": "display_data"
    }
   ],
   "source": [
    "plt.scatter(X_test, T_test)"
   ]
  },
  {
   "cell_type": "markdown",
   "metadata": {},
   "source": [
    "### Gradient descent"
   ]
  },
  {
   "cell_type": "code",
   "execution_count": 121,
   "metadata": {},
   "outputs": [
    {
     "name": "stdout",
     "output_type": "stream",
     "text": [
      "error: 31.380168385399827\n",
      "error: 22.490891154390987\n",
      "error: 16.14480134828977\n",
      "error: 11.614164510642569\n",
      "error: 8.379502716938386\n",
      "error: 6.069995976719242\n",
      "error: 4.420939662281427\n",
      "error: 3.243376823041343\n",
      "error: 2.4024211450784927\n",
      "error: 1.8017834461791982\n",
      "error: 1.3727263653163615\n",
      "error: 1.066179977833756\n",
      "error: 0.8471137381464245\n",
      "error: 0.6905190320946903\n",
      "final error: 0.5881273267587065\n",
      "iterations: 139\n"
     ]
    }
   ],
   "source": [
    "# initial parameters\n",
    "w = 1.0\n",
    "b = 0.0\n",
    "\n",
    "# training rate\n",
    "alpha = 0.01\n",
    "\n",
    "# error_delta\n",
    "err_delta = 0.01\n",
    "\n",
    "# get starting error\n",
    "Y_train = predict(X_train)\n",
    "err_prev = mean_squared_error(T_train, Y_train)\n",
    "\n",
    "# counter\n",
    "cnt = 0\n",
    "\n",
    "while True:\n",
    "    # print error every 10 steps\n",
    "    if cnt % 10 == 0:\n",
    "        print('error: ' + str(err_prev))\n",
    "    cnt = cnt + 1\n",
    "    \n",
    "    # gradient descent\n",
    "    grad_w = ((Y_train - T_train) * X_train).mean()\n",
    "    grad_b = (Y_train - T_train).mean()\n",
    "    w = w - alpha * grad_w\n",
    "    b = b - alpha * grad_b\n",
    "    \n",
    "    # re-evaluate model\n",
    "    Y_train = predict(X_train)\n",
    "    err = mean_squared_error(T_train, Y_train)\n",
    "\n",
    "    # check if trained\n",
    "    if abs(err - err_prev) < err_delta:\n",
    "        break\n",
    "    err_prev = err\n",
    "    \n",
    "\n",
    "print('final error: ' + str(err))\n",
    "print('iterations: ' + str(cnt))"
   ]
  },
  {
   "cell_type": "markdown",
   "metadata": {},
   "source": [
    "### Validate the model"
   ]
  },
  {
   "cell_type": "code",
   "execution_count": 119,
   "metadata": {},
   "outputs": [
    {
     "data": {
      "text/plain": [
       "0.33802735054702726"
      ]
     },
     "execution_count": 119,
     "metadata": {},
     "output_type": "execute_result"
    }
   ],
   "source": [
    "Y_test = predict(X_test)\n",
    "validation_err = mean_squared_error(T_test, Y_test)\n",
    "validation_err"
   ]
  },
  {
   "cell_type": "markdown",
   "metadata": {},
   "source": [
    "### Plot the prediction line"
   ]
  },
  {
   "cell_type": "code",
   "execution_count": 120,
   "metadata": {},
   "outputs": [
    {
     "data": {
      "text/plain": [
       "[<matplotlib.lines.Line2D at 0x20e8180fac8>]"
      ]
     },
     "execution_count": 120,
     "metadata": {},
     "output_type": "execute_result"
    },
    {
     "data": {
      "image/png": "[encoded data removed]",
      "text/plain": [
       "<Figure size 432x288 with 1 Axes>"
      ]
     },
     "metadata": {
      "needs_background": "light"
     },
     "output_type": "display_data"
    }
   ],
   "source": [
    "Y = predict(data[:, 0])\n",
    "plt.scatter(data[:, 0], data[:, 1])\n",
    "plt.plot(data[:, 0], Y, color='red')"
   ]
  },
  {
   "cell_type": "markdown",
   "metadata": {},
   "source": [
    "## Conclusions"
   ]
  },
  {
   "cell_type": "markdown",
   "metadata": {},
   "source": [
    "Gradient descent with learning rate = 0.01 allowed training model in 139 iterations, achieving error of 0.338 on validation set"
   ]
  }
 ],
 "metadata": {
  "kernelspec": {
   "display_name": "Python 3",
   "language": "python",
   "name": "python3"
  },
  "language_info": {
   "codemirror_mode": {
    "name": "ipython",
    "version": 3
   },
   "file_extension": ".py",
   "mimetype": "text/x-python",
   "name": "python",
   "nbconvert_exporter": "python",
   "pygments_lexer": "ipython3",
   "version": "3.7.3"
  }
 },
 "nbformat": 4,
 "nbformat_minor": 2
}
