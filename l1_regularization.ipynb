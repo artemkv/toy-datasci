{
 "cells": [
  {
   "cell_type": "markdown",
   "metadata": {},
   "source": [
    "# L1 regularization"
   ]
  },
  {
   "cell_type": "markdown",
   "metadata": {},
   "source": [
    "Goals:\n",
    "- hand-code the polynomial regression algorithm with L1 regularization on a toy dataset\n",
    "- study the effect of L1 regularization on the convergence"
   ]
  },
  {
   "cell_type": "markdown",
   "metadata": {},
   "source": [
    "## Import basic libraries"
   ]
  },
  {
   "cell_type": "code",
   "execution_count": 1,
   "metadata": {},
   "outputs": [],
   "source": [
    "import numpy as np\n",
    "from matplotlib import pyplot as plt\n",
    "\n",
    "%matplotlib inline"
   ]
  },
  {
   "cell_type": "markdown",
   "metadata": {},
   "source": [
    "## Create a toy dataset"
   ]
  },
  {
   "cell_type": "code",
   "execution_count": 2,
   "metadata": {},
   "outputs": [
    {
     "data": {
      "text/plain": [
       "array([[-1.8989899 ,  1.02008245],\n",
       "       [ 1.33333333, -0.37620502],\n",
       "       [ 1.73737374,  0.024342  ],\n",
       "       [ 0.87878788,  0.79470631],\n",
       "       [ 1.23232323, -0.73841521]])"
      ]
     },
     "execution_count": 2,
     "metadata": {},
     "output_type": "execute_result"
    }
   ],
   "source": [
    "import math\n",
    "\n",
    "N = 100\n",
    "D = 2\n",
    "\n",
    "# dataset is no longer idillic shape modelled by the second degree polynomial\n",
    "# we want to see how the polynomial regression will manage to adapt to a non-polinomial shape\n",
    "# it is expected to have a high bias\n",
    "# but we want to prefer the model that generalizes best\n",
    "# so we are going to use x2 = sin(x1 * freq) * amp\n",
    "freq = 3\n",
    "amp = 0.7\n",
    "\n",
    "# error is normally distributed random variable with mean err_mu and variance err_sigma\n",
    "# that is, the error is sum of many different random influences\n",
    "err_mu = 0\n",
    "err_sigma = 0.3\n",
    "\n",
    "# make up the dataset\n",
    "data = np.empty([N, D], dtype=float)\n",
    "data[:, 0] = np.linspace(-2.0, 3.0, N)\n",
    "data[:, 1] = err_sigma * np.random.randn(N) + err_mu # errors\n",
    "data[:, 1] = np.sin(data[:, 0] * freq) * amp + data[:, 1]\n",
    "\n",
    "np.random.shuffle(data)\n",
    "\n",
    "# peek into the dataset\n",
    "data[:5]"
   ]
  },
  {
   "cell_type": "markdown",
   "metadata": {},
   "source": [
    "## Plot the toy dataset"
   ]
  },
  {
   "cell_type": "code",
   "execution_count": 3,
   "metadata": {},
   "outputs": [
    {
     "data": {
      "image/png": "[encoded data removed]",
      "text/plain": [
       "<Figure size 432x288 with 1 Axes>"
      ]
     },
     "metadata": {
      "needs_background": "light"
     },
     "output_type": "display_data"
    }
   ],
   "source": [
    "plt.scatter(data[:, 0], data[:, 1])\n",
    "plt.show()"
   ]
  },
  {
   "cell_type": "markdown",
   "metadata": {},
   "source": [
    "## Model the relationship"
   ]
  },
  {
   "cell_type": "code",
   "execution_count": 4,
   "metadata": {},
   "outputs": [],
   "source": [
    "# We are going to model the data using third degree polynomial\n",
    "# x2 = w1 * x1 + w2 * x1*x1 + w3 * x1*x1*x1 + b\n",
    "\n",
    "# initial values for w and b\n",
    "w1 = 1.0\n",
    "w2 = 1.0\n",
    "w3 = 2.5\n",
    "b = 0.0\n",
    "\n",
    "# predicts target values according to the model\n",
    "def predict(X):\n",
    "    return X*w1 + X*X*w2 + X*X*X*w3 + b"
   ]
  },
  {
   "cell_type": "markdown",
   "metadata": {},
   "source": [
    "### Untrained regression"
   ]
  },
  {
   "cell_type": "code",
   "execution_count": 5,
   "metadata": {},
   "outputs": [
    {
     "data": {
      "text/plain": [
       "[<matplotlib.lines.Line2D at 0x15fa6670978>]"
      ]
     },
     "execution_count": 5,
     "metadata": {},
     "output_type": "execute_result"
    },
    {
     "data": {
      "image/png": "[encoded data removed]",
      "text/plain": [
       "<Figure size 432x288 with 1 Axes>"
      ]
     },
     "metadata": {
      "needs_background": "light"
     },
     "output_type": "display_data"
    }
   ],
   "source": [
    "x = np.linspace(-2.0, 3.0)\n",
    "Y = predict(x)\n",
    "\n",
    "plt.scatter(data[:, 0], data[:, 1])\n",
    "plt.plot(x, Y, color='red')"
   ]
  },
  {
   "cell_type": "markdown",
   "metadata": {},
   "source": [
    "## Train the model"
   ]
  },
  {
   "cell_type": "markdown",
   "metadata": {},
   "source": [
    "### Split into training set and validation set"
   ]
  },
  {
   "cell_type": "code",
   "execution_count": 6,
   "metadata": {},
   "outputs": [],
   "source": [
    "X_train = data[:-30, 0]\n",
    "T_train = data[:-30, 1]\n",
    "\n",
    "X_test = data[-30:, 0]\n",
    "T_test = data[-30:, 1]"
   ]
  },
  {
   "cell_type": "markdown",
   "metadata": {},
   "source": [
    "### Plot the train and test data"
   ]
  },
  {
   "cell_type": "code",
   "execution_count": 7,
   "metadata": {},
   "outputs": [
    {
     "data": {
      "text/plain": [
       "<matplotlib.collections.PathCollection at 0x15fa6776208>"
      ]
     },
     "execution_count": 7,
     "metadata": {},
     "output_type": "execute_result"
    },
    {
     "data": {
      "image/png": "[encoded data removed]",
      "text/plain": [
       "<Figure size 432x288 with 1 Axes>"
      ]
     },
     "metadata": {
      "needs_background": "light"
     },
     "output_type": "display_data"
    }
   ],
   "source": [
    "plt.scatter(X_train, T_train)"
   ]
  },
  {
   "cell_type": "code",
   "execution_count": 8,
   "metadata": {},
   "outputs": [
    {
     "data": {
      "text/plain": [
       "<matplotlib.collections.PathCollection at 0x15fa67ca9e8>"
      ]
     },
     "execution_count": 8,
     "metadata": {},
     "output_type": "execute_result"
    },
    {
     "data": {
      "image/png": "[encoded data removed]",
      "text/plain": [
       "<Figure size 432x288 with 1 Axes>"
      ]
     },
     "metadata": {
      "needs_background": "light"
     },
     "output_type": "display_data"
    }
   ],
   "source": [
    "plt.scatter(X_test, T_test)"
   ]
  },
  {
   "cell_type": "markdown",
   "metadata": {},
   "source": [
    "### Loss function"
   ]
  },
  {
   "cell_type": "code",
   "execution_count": 9,
   "metadata": {},
   "outputs": [],
   "source": [
    "# Mean squared error\n",
    "def mean_squared_error(T, Y):\n",
    "    return np.square(Y - T).mean()"
   ]
  },
  {
   "cell_type": "markdown",
   "metadata": {},
   "source": [
    "### Gradient descent - no regularization"
   ]
  },
  {
   "cell_type": "code",
   "execution_count": 10,
   "metadata": {},
   "outputs": [
    {
     "name": "stdout",
     "output_type": "stream",
     "text": [
      "error: 112.53305942578913\n",
      "error: 0.7550094653845085\n",
      "error: 0.6580028182966201\n",
      "error: 0.6033031850793873\n",
      "error: 0.5691362906025919\n",
      "error: 0.545506829607328\n",
      "error: 0.5275400420911491\n",
      "error: 0.5128345202553157\n",
      "error: 0.5001858189794589\n",
      "error: 0.48897079984586217\n",
      "final error: 0.48248201257105255\n",
      "iterations: 963\n"
     ]
    }
   ],
   "source": [
    "# initial parameters\n",
    "w1 = 1.0\n",
    "w2 = 1.0\n",
    "w3 = 1.0\n",
    "b = 0.0\n",
    "\n",
    "# training rate\n",
    "alpha = 0.001\n",
    "\n",
    "# error_delta\n",
    "err_delta = 0.0001\n",
    "\n",
    "# get starting error\n",
    "Y_train = predict(X_train)\n",
    "err_prev = mean_squared_error(T_train, Y_train)\n",
    "\n",
    "# counter\n",
    "cnt = 0\n",
    "\n",
    "while True:\n",
    "    # print error every 10 steps\n",
    "    if cnt % 100 == 0:\n",
    "        print('error: ' + str(err_prev))\n",
    "    cnt = cnt + 1\n",
    "    \n",
    "    # gradient descent\n",
    "    grad_w1 = ((Y_train - T_train) * X_train).mean()\n",
    "    grad_w2 = ((Y_train - T_train) * X_train*X_train).mean()\n",
    "    grad_w3 = ((Y_train - T_train) * X_train*X_train*X_train).mean()\n",
    "    grad_b = (Y_train - T_train).mean()\n",
    "    w1 = w1 - alpha * grad_w1\n",
    "    w2 = w2 - alpha * grad_w2\n",
    "    w3 = w3 - alpha * grad_w3\n",
    "    b = b - alpha * grad_b\n",
    "    \n",
    "    # re-evaluate model\n",
    "    Y_train = predict(X_train)\n",
    "    err = mean_squared_error(T_train, Y_train)\n",
    "\n",
    "    # check if trained\n",
    "    if abs(err - err_prev) < err_delta:\n",
    "        break\n",
    "    err_prev = err\n",
    "    \n",
    "\n",
    "print('final error: ' + str(err))\n",
    "print('iterations: ' + str(cnt))"
   ]
  },
  {
   "cell_type": "markdown",
   "metadata": {},
   "source": [
    "### Validate the model"
   ]
  },
  {
   "cell_type": "code",
   "execution_count": 11,
   "metadata": {},
   "outputs": [
    {
     "data": {
      "text/plain": [
       "0.6227776365215498"
      ]
     },
     "execution_count": 11,
     "metadata": {},
     "output_type": "execute_result"
    }
   ],
   "source": [
    "Y_test = predict(X_test)\n",
    "validation_err = mean_squared_error(T_test, Y_test)\n",
    "validation_err"
   ]
  },
  {
   "cell_type": "markdown",
   "metadata": {},
   "source": [
    "### Plot the prediction line"
   ]
  },
  {
   "cell_type": "code",
   "execution_count": 12,
   "metadata": {},
   "outputs": [
    {
     "data": {
      "text/plain": [
       "[<matplotlib.lines.Line2D at 0x15fa68434a8>]"
      ]
     },
     "execution_count": 12,
     "metadata": {},
     "output_type": "execute_result"
    },
    {
     "data": {
      "image/png": "[encoded data removed]",
      "text/plain": [
       "<Figure size 432x288 with 1 Axes>"
      ]
     },
     "metadata": {
      "needs_background": "light"
     },
     "output_type": "display_data"
    }
   ],
   "source": [
    "plt.scatter(data[:, 0], data[:, 1])\n",
    "\n",
    "x = np.linspace(-2.0, 3.0)\n",
    "plt.plot(x, predict(x), color='red')"
   ]
  },
  {
   "cell_type": "markdown",
   "metadata": {},
   "source": [
    "### Learned parameters"
   ]
  },
  {
   "cell_type": "code",
   "execution_count": 13,
   "metadata": {},
   "outputs": [
    {
     "data": {
      "text/plain": [
       "[0.554254396584253,\n",
       " 0.2819643128810414,\n",
       " -0.17539696906200092,\n",
       " -0.23425736843230072]"
      ]
     },
     "execution_count": 13,
     "metadata": {},
     "output_type": "execute_result"
    }
   ],
   "source": [
    "[w1, w2, w3, b]"
   ]
  },
  {
   "cell_type": "markdown",
   "metadata": {},
   "source": [
    "### Gradient descent - L1 regularization"
   ]
  },
  {
   "cell_type": "code",
   "execution_count": 14,
   "metadata": {},
   "outputs": [
    {
     "name": "stdout",
     "output_type": "stream",
     "text": [
      "error: 112.53305942578913\n",
      "error: 0.7334680660984407\n",
      "error: 0.6219576379106985\n",
      "error: 0.56071785591389\n",
      "error: 0.5228722738624051\n",
      "error: 0.4966873051048916\n",
      "error: 0.4766682826854378\n",
      "error: 0.46025621790326404\n",
      "error: 0.4462600287825903\n",
      "error: 0.43411673900869796\n",
      "final error: 0.42453716072494835\n",
      "iterations: 990\n"
     ]
    }
   ],
   "source": [
    "# initial parameters\n",
    "w1 = 1.0\n",
    "w2 = 1.0\n",
    "w3 = 1.0\n",
    "b = 0.0\n",
    "\n",
    "# training rate\n",
    "alpha = 0.001\n",
    "\n",
    "# regularisation parameter\n",
    "gamma = 0.2\n",
    "\n",
    "# error_delta\n",
    "err_delta = 0.0001\n",
    "\n",
    "# get starting error\n",
    "Y_train = predict(X_train)\n",
    "err_prev = mean_squared_error(T_train, Y_train)\n",
    "\n",
    "# counter\n",
    "cnt = 0\n",
    "\n",
    "while True:\n",
    "    # print error every 10 steps\n",
    "    if cnt % 100 == 0:\n",
    "        print('error: ' + str(err_prev))\n",
    "    cnt = cnt + 1\n",
    "    \n",
    "    # gradient descent\n",
    "    grad_w1 = ((Y_train - T_train) * X_train + gamma * np.sign(w1)).mean()\n",
    "    grad_w2 = ((Y_train - T_train) * X_train*X_train + gamma * np.sign(w2)).mean()\n",
    "    grad_w3 = ((Y_train - T_train) * X_train*X_train*X_train + gamma * np.sign(w3)).mean()\n",
    "    grad_b = (Y_train - T_train + gamma * np.sign(b)).mean()\n",
    "    w1 = w1 - alpha * grad_w1\n",
    "    w2 = w2 - alpha * grad_w2\n",
    "    w3 = w3 - alpha * grad_w3\n",
    "    b = b - alpha * grad_b\n",
    "    \n",
    "    # re-evaluate model\n",
    "    Y_train = predict(X_train)\n",
    "    err = mean_squared_error(T_train, Y_train)\n",
    "\n",
    "    # check if trained\n",
    "    if abs(err - err_prev) < err_delta:\n",
    "        break\n",
    "    err_prev = err\n",
    "    \n",
    "\n",
    "print('final error: ' + str(err))\n",
    "print('iterations: ' + str(cnt))"
   ]
  },
  {
   "cell_type": "markdown",
   "metadata": {},
   "source": [
    "### Validate the model"
   ]
  },
  {
   "cell_type": "code",
   "execution_count": 15,
   "metadata": {},
   "outputs": [
    {
     "data": {
      "text/plain": [
       "0.48545218917232064"
      ]
     },
     "execution_count": 15,
     "metadata": {},
     "output_type": "execute_result"
    }
   ],
   "source": [
    "Y_test = predict(X_test)\n",
    "validation_err = mean_squared_error(T_test, Y_test)\n",
    "validation_err"
   ]
  },
  {
   "cell_type": "markdown",
   "metadata": {},
   "source": [
    "### Plot the prediction line"
   ]
  },
  {
   "cell_type": "code",
   "execution_count": 16,
   "metadata": {},
   "outputs": [
    {
     "data": {
      "text/plain": [
       "[<matplotlib.lines.Line2D at 0x15fa68a1da0>]"
      ]
     },
     "execution_count": 16,
     "metadata": {},
     "output_type": "execute_result"
    },
    {
     "data": {
      "image/png": "[encoded data removed]",
      "text/plain": [
       "<Figure size 432x288 with 1 Axes>"
      ]
     },
     "metadata": {
      "needs_background": "light"
     },
     "output_type": "display_data"
    }
   ],
   "source": [
    "plt.scatter(data[:, 0], data[:, 1])\n",
    "\n",
    "x = np.linspace(-2.0, 3.0)\n",
    "plt.plot(x, predict(x), color='red')"
   ]
  },
  {
   "cell_type": "markdown",
   "metadata": {},
   "source": [
    "### Learned parameters"
   ]
  },
  {
   "cell_type": "code",
   "execution_count": 17,
   "metadata": {},
   "outputs": [
    {
     "data": {
      "text/plain": [
       "[0.3461754943201358,\n",
       " 0.1487630090731654,\n",
       " -0.10028744167985643,\n",
       " -0.03957474563876437]"
      ]
     },
     "execution_count": 17,
     "metadata": {},
     "output_type": "execute_result"
    }
   ],
   "source": [
    "[w1, w2, w3, b]"
   ]
  },
  {
   "cell_type": "markdown",
   "metadata": {},
   "source": [
    "## Conclusions"
   ]
  },
  {
   "cell_type": "markdown",
   "metadata": {},
   "source": [
    "- Without regularization, the model is desperately trying to bend to fit the shape it clearly cannot model well\n",
    "- With L1 regularization, the model is \"giving up\" and bends only slightly. As a result it generalizes better and outperforms the model without regularization"
   ]
  }
 ],
 "metadata": {
  "kernelspec": {
   "display_name": "Python 3",
   "language": "python",
   "name": "python3"
  },
  "language_info": {
   "codemirror_mode": {
    "name": "ipython",
    "version": 3
   },
   "file_extension": ".py",
   "mimetype": "text/x-python",
   "name": "python",
   "nbconvert_exporter": "python",
   "pygments_lexer": "ipython3",
   "version": "3.7.3"
  }
 },
 "nbformat": 4,
 "nbformat_minor": 2
}
